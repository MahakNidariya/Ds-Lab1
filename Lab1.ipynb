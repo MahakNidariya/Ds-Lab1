{
 "cells": [
  {
   "cell_type": "markdown",
   "id": "3ba722ad-a305-42c2-ab26-1875b38e52ce",
   "metadata": {},
   "source": [
    "# My Jupyter Notebook on IBM Watson Studio"
   ]
  },
  {
   "cell_type": "markdown",
   "id": "73cdb188-a321-43ac-b71e-a0f5eb800a40",
   "metadata": {},
   "source": [
    "**Mahak**\n",
    "\n",
    "Student"
   ]
  },
  {
   "cell_type": "markdown",
   "id": "7cf03ab6-4cf9-4b87-8b74-6b7e4b4f2603",
   "metadata": {},
   "source": [
    "*Data Science is the most interesting fields in recent times that can be used for the human welfare as well.*"
   ]
  },
  {
   "cell_type": "markdown",
   "id": "0dd1c634-e283-44b4-9c13-61b7dcfe7255",
   "metadata": {},
   "source": [
    "### The code below will perform basic addition ###"
   ]
  },
  {
   "cell_type": "code",
   "execution_count": 1,
   "id": "932f3c1a-dc45-4a40-b327-41d7406ece97",
   "metadata": {},
   "outputs": [
    {
     "data": {
      "text/plain": [
       "5889140460"
      ]
     },
     "execution_count": 1,
     "metadata": {},
     "output_type": "execute_result"
    }
   ],
   "source": [
    "2345566777 + 3543573683"
   ]
  },
  {
   "cell_type": "markdown",
   "id": "86bf57ed-baf2-4aa4-ba6e-4e19b6f5330e",
   "metadata": {},
   "source": [
    "-----\n",
    "- a\n",
    "- b\n",
    "\n",
    "1 A"
   ]
  },
  {
   "cell_type": "code",
   "execution_count": null,
   "id": "f9df64f8-6321-418a-acbc-d0eca17c66d0",
   "metadata": {},
   "outputs": [],
   "source": []
  }
 ],
 "metadata": {
  "kernelspec": {
   "display_name": "Python",
   "language": "python",
   "name": "conda-env-python-py"
  },
  "language_info": {
   "codemirror_mode": {
    "name": "ipython",
    "version": 3
   },
   "file_extension": ".py",
   "mimetype": "text/x-python",
   "name": "python",
   "nbconvert_exporter": "python",
   "pygments_lexer": "ipython3",
   "version": "3.7.12"
  }
 },
 "nbformat": 4,
 "nbformat_minor": 5
}
